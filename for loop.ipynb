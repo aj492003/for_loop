{
 "cells": [
  {
   "cell_type": "code",
   "execution_count": 1,
   "id": "ba995b26-e214-4a0e-891c-e14a19092cf0",
   "metadata": {},
   "outputs": [],
   "source": [
    "l = [1,2,3,4,5]"
   ]
  },
  {
   "cell_type": "code",
   "execution_count": 3,
   "id": "621fd862-0db8-480a-b962-e61a38f25143",
   "metadata": {},
   "outputs": [
    {
     "name": "stdout",
     "output_type": "stream",
     "text": [
      "1 <class 'int'>\n",
      "2 <class 'int'>\n",
      "3 <class 'int'>\n",
      "4 <class 'int'>\n",
      "5 <class 'int'>\n"
     ]
    }
   ],
   "source": [
    "for i in l:\n",
    "    print(i,type(i))"
   ]
  },
  {
   "cell_type": "code",
   "execution_count": 4,
   "id": "1653e004-4c10-4a27-bc5d-8a1759101fa4",
   "metadata": {},
   "outputs": [],
   "source": [
    "l1 = [\"ankur\",\"jha\",\"aditya\",\"bhatt\"]"
   ]
  },
  {
   "cell_type": "code",
   "execution_count": 5,
   "id": "c01124e3-32fd-4788-ac68-903b94ec0a49",
   "metadata": {},
   "outputs": [
    {
     "name": "stdout",
     "output_type": "stream",
     "text": [
      "ankur\n",
      "jha\n",
      "aditya\n",
      "bhatt\n"
     ]
    }
   ],
   "source": [
    "for i in l1:\n",
    "    \n",
    "    print(i)"
   ]
  },
  {
   "cell_type": "code",
   "execution_count": 6,
   "id": "a91bea58-0040-42a7-99f0-9526686a85af",
   "metadata": {},
   "outputs": [
    {
     "data": {
      "text/plain": [
       "['ankur', 'jha', 'aditya', 'bhatt']"
      ]
     },
     "execution_count": 6,
     "metadata": {},
     "output_type": "execute_result"
    }
   ],
   "source": [
    "l1"
   ]
  },
  {
   "cell_type": "code",
   "execution_count": 8,
   "id": "3e874592-8315-4914-a599-22d5a46006ce",
   "metadata": {},
   "outputs": [
    {
     "name": "stdout",
     "output_type": "stream",
     "text": [
      "ankur\n",
      "jha\n",
      "aditya\n",
      "bhatt\n",
      "if for loop is able to complete itself then onlyy else will execute\n"
     ]
    }
   ],
   "source": [
    "for i in l1:\n",
    "    print(i)\n",
    "else:\n",
    "    print(\"if for loop is able to complete itself then onlyy else will execute\")"
   ]
  },
  {
   "cell_type": "code",
   "execution_count": 9,
   "id": "98b4805e-a55c-408e-9440-2f14b1ba02e7",
   "metadata": {},
   "outputs": [
    {
     "data": {
      "text/plain": [
       "['ankur', 'jha', 'aditya', 'bhatt']"
      ]
     },
     "execution_count": 9,
     "metadata": {},
     "output_type": "execute_result"
    }
   ],
   "source": [
    "l1"
   ]
  },
  {
   "cell_type": "code",
   "execution_count": 10,
   "id": "724f1f53-1a66-4de6-bcca-b40ce85210e1",
   "metadata": {},
   "outputs": [
    {
     "name": "stdout",
     "output_type": "stream",
     "text": [
      "ankur\n"
     ]
    }
   ],
   "source": [
    "for i in l1:\n",
    "    if i == \"jha\":\n",
    "        break\n",
    "    print(i)    "
   ]
  },
  {
   "cell_type": "code",
   "execution_count": 11,
   "id": "0b0e39b2-82dc-4626-a688-a1ebf9a37878",
   "metadata": {},
   "outputs": [
    {
     "data": {
      "text/plain": [
       "['ankur', 'jha', 'aditya', 'bhatt']"
      ]
     },
     "execution_count": 11,
     "metadata": {},
     "output_type": "execute_result"
    }
   ],
   "source": [
    "l1"
   ]
  },
  {
   "cell_type": "code",
   "execution_count": 12,
   "id": "f5ef42d8-62a2-42ca-b47c-6e807cfca2cc",
   "metadata": {},
   "outputs": [
    {
     "name": "stdout",
     "output_type": "stream",
     "text": [
      "ankur\n",
      "jha\n",
      "aditya\n"
     ]
    }
   ],
   "source": [
    "for i in l1:\n",
    "    if i == \"bhatt\":\n",
    "        break\n",
    "    print(i)    "
   ]
  },
  {
   "cell_type": "code",
   "execution_count": 13,
   "id": "d64061c3-d085-4916-8862-cb7d5a06e16d",
   "metadata": {},
   "outputs": [
    {
     "data": {
      "text/plain": [
       "['ankur', 'jha', 'aditya', 'bhatt']"
      ]
     },
     "execution_count": 13,
     "metadata": {},
     "output_type": "execute_result"
    }
   ],
   "source": [
    "l1"
   ]
  },
  {
   "cell_type": "code",
   "execution_count": 14,
   "id": "dc0367e6-da21-47dd-b232-23aac0975649",
   "metadata": {},
   "outputs": [
    {
     "name": "stdout",
     "output_type": "stream",
     "text": [
      "ankur\n"
     ]
    }
   ],
   "source": [
    "for i in l1:\n",
    "    if i == \"jha\":\n",
    "        break\n",
    "    print(i) \n",
    "else:\n",
    "    print(\"execute this if for loop is able to complete itself\")"
   ]
  },
  {
   "cell_type": "code",
   "execution_count": 15,
   "id": "bf74293b-f169-4c6f-b3ab-17e212848990",
   "metadata": {},
   "outputs": [
    {
     "data": {
      "text/plain": [
       "['ankur', 'jha', 'aditya', 'bhatt']"
      ]
     },
     "execution_count": 15,
     "metadata": {},
     "output_type": "execute_result"
    }
   ],
   "source": [
    "l1"
   ]
  },
  {
   "cell_type": "code",
   "execution_count": 16,
   "id": "8461a1a1-e689-4461-97fb-f19815f4945d",
   "metadata": {},
   "outputs": [
    {
     "name": "stdout",
     "output_type": "stream",
     "text": [
      "ankur\n",
      "jha\n",
      "aditya\n",
      "bhatt\n",
      "execute this if for loop is able to complete itself\n"
     ]
    }
   ],
   "source": [
    "for i in l1:\n",
    "    if i == \"arora\":\n",
    "        break\n",
    "    print(i) \n",
    "else:\n",
    "    print(\"execute this if for loop is able to complete itself\")"
   ]
  },
  {
   "cell_type": "code",
   "execution_count": 17,
   "id": "3a4096dc-dc7d-49b0-90cc-5fb23b75bde0",
   "metadata": {},
   "outputs": [
    {
     "data": {
      "text/plain": [
       "['ankur', 'jha', 'aditya', 'bhatt']"
      ]
     },
     "execution_count": 17,
     "metadata": {},
     "output_type": "execute_result"
    }
   ],
   "source": [
    "l1"
   ]
  },
  {
   "cell_type": "code",
   "execution_count": 18,
   "id": "4b10dc5b-6a0b-4aa2-a3ce-37c4ae798ff0",
   "metadata": {},
   "outputs": [
    {
     "name": "stdout",
     "output_type": "stream",
     "text": [
      "ankur\n",
      "aditya\n",
      "bhatt\n"
     ]
    }
   ],
   "source": [
    "for i in l1:\n",
    "    if i == \"jha\":\n",
    "        continue\n",
    "    print(i) \n"
   ]
  },
  {
   "cell_type": "code",
   "execution_count": 19,
   "id": "164943e3-659d-4886-951c-8f131bec15a5",
   "metadata": {},
   "outputs": [
    {
     "name": "stdout",
     "output_type": "stream",
     "text": [
      "ankur\n",
      "aditya\n",
      "bhatt\n",
      "execute this if for loop is able to complete itself\n"
     ]
    }
   ],
   "source": [
    "for i in l1:\n",
    "    if i == \"jha\":\n",
    "        continue\n",
    "    print(i) \n",
    "else:\n",
    "    print(\"execute this if for loop is able to complete itself\")"
   ]
  },
  {
   "cell_type": "code",
   "execution_count": 20,
   "id": "f390e601-338e-41dd-9475-3ef962b75b46",
   "metadata": {},
   "outputs": [],
   "source": [
    "# range() - range function help us to generate data integer "
   ]
  },
  {
   "cell_type": "code",
   "execution_count": 21,
   "id": "263a75c4-e930-410c-ae50-5e2e57ae192c",
   "metadata": {},
   "outputs": [
    {
     "data": {
      "text/plain": [
       "range(0, 5)"
      ]
     },
     "execution_count": 21,
     "metadata": {},
     "output_type": "execute_result"
    }
   ],
   "source": [
    "range(5)"
   ]
  },
  {
   "cell_type": "code",
   "execution_count": 22,
   "id": "6881de3f-2e2a-44e2-ac17-10feb6a3b6d7",
   "metadata": {},
   "outputs": [
    {
     "data": {
      "text/plain": [
       "[0, 1, 2, 3, 4]"
      ]
     },
     "execution_count": 22,
     "metadata": {},
     "output_type": "execute_result"
    }
   ],
   "source": [
    "list(range(5))"
   ]
  },
  {
   "cell_type": "code",
   "execution_count": 23,
   "id": "cbd8e9fa-7498-4e29-a099-c823906dbb5f",
   "metadata": {},
   "outputs": [
    {
     "data": {
      "text/plain": [
       "[0, 1, 2, 3, 4]"
      ]
     },
     "execution_count": 23,
     "metadata": {},
     "output_type": "execute_result"
    }
   ],
   "source": [
    "list(range(0,5,1))"
   ]
  },
  {
   "cell_type": "code",
   "execution_count": 24,
   "id": "1b208617-0e25-4d00-8336-56366f4cfb63",
   "metadata": {},
   "outputs": [
    {
     "data": {
      "text/plain": [
       "range(0, 20, 2)"
      ]
     },
     "execution_count": 24,
     "metadata": {},
     "output_type": "execute_result"
    }
   ],
   "source": [
    "range(0,20,2)"
   ]
  },
  {
   "cell_type": "code",
   "execution_count": 25,
   "id": "fe8ace68-a81d-4ac4-aa65-407df9bab9da",
   "metadata": {},
   "outputs": [
    {
     "data": {
      "text/plain": [
       "[0, 2, 4, 6, 8, 10, 12, 14, 16, 18]"
      ]
     },
     "execution_count": 25,
     "metadata": {},
     "output_type": "execute_result"
    }
   ],
   "source": [
    "list(range(0,20,2))"
   ]
  },
  {
   "cell_type": "code",
   "execution_count": 26,
   "id": "b70d9ff3-f60b-441e-a3b1-258964c60260",
   "metadata": {},
   "outputs": [
    {
     "data": {
      "text/plain": [
       "[-10, -9, -8, -7, -6, -5, -4, -3, -2, -1]"
      ]
     },
     "execution_count": 26,
     "metadata": {},
     "output_type": "execute_result"
    }
   ],
   "source": [
    "list(range(-10,0))"
   ]
  },
  {
   "cell_type": "code",
   "execution_count": 27,
   "id": "9d5db386-2bfe-4abf-88c6-be43329aaff4",
   "metadata": {},
   "outputs": [
    {
     "data": {
      "text/plain": [
       "['ankur', 'jha', 'aditya', 'bhatt']"
      ]
     },
     "execution_count": 27,
     "metadata": {},
     "output_type": "execute_result"
    }
   ],
   "source": [
    "l1"
   ]
  },
  {
   "cell_type": "code",
   "execution_count": 28,
   "id": "272145bc-99bf-4548-9723-f13f00d08627",
   "metadata": {},
   "outputs": [
    {
     "data": {
      "text/plain": [
       "4"
      ]
     },
     "execution_count": 28,
     "metadata": {},
     "output_type": "execute_result"
    }
   ],
   "source": [
    "len(l1)"
   ]
  },
  {
   "cell_type": "code",
   "execution_count": 29,
   "id": "640dda94-3f0f-4335-b87f-2524235693e3",
   "metadata": {},
   "outputs": [
    {
     "data": {
      "text/plain": [
       "range(0, 4)"
      ]
     },
     "execution_count": 29,
     "metadata": {},
     "output_type": "execute_result"
    }
   ],
   "source": [
    "range(len(l1))"
   ]
  },
  {
   "cell_type": "code",
   "execution_count": 30,
   "id": "05c4fef1-749e-443a-b65d-c608c908f327",
   "metadata": {},
   "outputs": [
    {
     "data": {
      "text/plain": [
       "[0, 1, 2, 3]"
      ]
     },
     "execution_count": 30,
     "metadata": {},
     "output_type": "execute_result"
    }
   ],
   "source": [
    "list(range(len(l1)))"
   ]
  },
  {
   "cell_type": "code",
   "execution_count": 31,
   "id": "87bdaccb-e280-479d-865e-23fa835610b3",
   "metadata": {},
   "outputs": [
    {
     "name": "stdout",
     "output_type": "stream",
     "text": [
      "ankur\n",
      "jha\n",
      "aditya\n",
      "bhatt\n"
     ]
    }
   ],
   "source": [
    "for i in range(len(l1)):\n",
    "    print(l1[i])"
   ]
  },
  {
   "cell_type": "code",
   "execution_count": 35,
   "id": "2c81cf51-3340-42c5-843d-a8bda93b02a0",
   "metadata": {},
   "outputs": [
    {
     "data": {
      "text/plain": [
       "4"
      ]
     },
     "execution_count": 35,
     "metadata": {},
     "output_type": "execute_result"
    }
   ],
   "source": [
    "len(l1)"
   ]
  },
  {
   "cell_type": "code",
   "execution_count": 36,
   "id": "86f70edb-0e5b-4617-87ed-a353ddf4db78",
   "metadata": {},
   "outputs": [
    {
     "data": {
      "text/plain": [
       "[4, 3, 2, 1]"
      ]
     },
     "execution_count": 36,
     "metadata": {},
     "output_type": "execute_result"
    }
   ],
   "source": [
    "list(range(len(l1),0,-1))"
   ]
  },
  {
   "cell_type": "code",
   "execution_count": 37,
   "id": "7330a4e4-ed98-4b5c-b6b3-58345fd3f2de",
   "metadata": {},
   "outputs": [
    {
     "data": {
      "text/plain": [
       "['ankur', 'jha', 'aditya', 'bhatt']"
      ]
     },
     "execution_count": 37,
     "metadata": {},
     "output_type": "execute_result"
    }
   ],
   "source": [
    "l1"
   ]
  },
  {
   "cell_type": "code",
   "execution_count": 40,
   "id": "cba2abe4-016a-40bb-a15e-d29a93cbfe9d",
   "metadata": {},
   "outputs": [
    {
     "name": "stdout",
     "output_type": "stream",
     "text": [
      "bhatt\n",
      "aditya\n",
      "jha\n"
     ]
    }
   ],
   "source": [
    "for i in range(len(l1)-1,0,-1):\n",
    "    print(l1[i])"
   ]
  },
  {
   "cell_type": "code",
   "execution_count": 41,
   "id": "dc541a95-ff8e-4444-8002-bdb8f9ac53ac",
   "metadata": {},
   "outputs": [
    {
     "data": {
      "text/plain": [
       "[3, 2, 1]"
      ]
     },
     "execution_count": 41,
     "metadata": {},
     "output_type": "execute_result"
    }
   ],
   "source": [
    "list(range(len(l1)-1,0,-1))"
   ]
  },
  {
   "cell_type": "code",
   "execution_count": 42,
   "id": "a4eecc84-9e7c-440f-bd7a-6a3ff1f2bcc3",
   "metadata": {},
   "outputs": [
    {
     "data": {
      "text/plain": [
       "[4, 3, 2, 1, 0]"
      ]
     },
     "execution_count": 42,
     "metadata": {},
     "output_type": "execute_result"
    }
   ],
   "source": [
    "list(range(len(l1),-1,-1))"
   ]
  },
  {
   "cell_type": "code",
   "execution_count": 43,
   "id": "16676462-9d5e-4d29-b4be-6be73badc1f3",
   "metadata": {},
   "outputs": [
    {
     "data": {
      "text/plain": [
       "[3, 2, 1, 0]"
      ]
     },
     "execution_count": 43,
     "metadata": {},
     "output_type": "execute_result"
    }
   ],
   "source": [
    "list(range(len(l1)-1,-1,-1))"
   ]
  },
  {
   "cell_type": "code",
   "execution_count": 44,
   "id": "57ab5bed-b5f6-4fdb-b85e-6afac0826af0",
   "metadata": {},
   "outputs": [
    {
     "name": "stdout",
     "output_type": "stream",
     "text": [
      "bhatt\n",
      "aditya\n",
      "jha\n",
      "ankur\n"
     ]
    }
   ],
   "source": [
    "for i in range(len(l1)-1,-1,-1):\n",
    "    print(l1[i])"
   ]
  },
  {
   "cell_type": "code",
   "execution_count": 45,
   "id": "91be56ea-12d6-49f7-ba52-ec242fed049c",
   "metadata": {},
   "outputs": [],
   "source": [
    "l2=[23,5,45,56,6,67,67,78,87,8998,9,9,8]"
   ]
  },
  {
   "cell_type": "code",
   "execution_count": 46,
   "id": "0370eb3c-ca0d-4a18-9aba-f345ed34d816",
   "metadata": {},
   "outputs": [],
   "source": [
    "# to find the data which is present only in the even indexes"
   ]
  },
  {
   "cell_type": "code",
   "execution_count": 47,
   "id": "78c42a4d-eabd-446b-b608-e0c4e61b9393",
   "metadata": {},
   "outputs": [
    {
     "data": {
      "text/plain": [
       "range(0, 13, 2)"
      ]
     },
     "execution_count": 47,
     "metadata": {},
     "output_type": "execute_result"
    }
   ],
   "source": [
    "range(0,len(l2),2)"
   ]
  },
  {
   "cell_type": "code",
   "execution_count": 48,
   "id": "094c8c37-3b7d-4218-80e0-fda57459c924",
   "metadata": {},
   "outputs": [
    {
     "data": {
      "text/plain": [
       "[0, 2, 4, 6, 8, 10, 12]"
      ]
     },
     "execution_count": 48,
     "metadata": {},
     "output_type": "execute_result"
    }
   ],
   "source": [
    "list(range(0,len(l2),2))"
   ]
  },
  {
   "cell_type": "code",
   "execution_count": 49,
   "id": "7233d81d-fb0f-4664-92cb-2d44216e4e97",
   "metadata": {},
   "outputs": [
    {
     "name": "stdout",
     "output_type": "stream",
     "text": [
      "23\n",
      "45\n",
      "6\n",
      "67\n",
      "87\n",
      "9\n",
      "8\n"
     ]
    }
   ],
   "source": [
    "for i in range(0,len(l2),2):\n",
    "    print(l2[i])"
   ]
  },
  {
   "cell_type": "code",
   "execution_count": 50,
   "id": "085be154-c557-4702-96a7-74a64fc1de6d",
   "metadata": {},
   "outputs": [],
   "source": [
    "l = [1,2,3,4,5,6,7,8,9]"
   ]
  },
  {
   "cell_type": "code",
   "execution_count": 51,
   "id": "285a5882-ac2e-461e-a94d-8ba7a4fb1f29",
   "metadata": {},
   "outputs": [],
   "source": [
    "# now to find the summation of all the elements present in the list"
   ]
  },
  {
   "cell_type": "code",
   "execution_count": 52,
   "id": "02217b36-8a85-4752-a90b-7e3d41f29682",
   "metadata": {},
   "outputs": [
    {
     "data": {
      "text/plain": [
       "45"
      ]
     },
     "execution_count": 52,
     "metadata": {},
     "output_type": "execute_result"
    }
   ],
   "source": [
    "sum(l)"
   ]
  },
  {
   "cell_type": "code",
   "execution_count": 53,
   "id": "79f78f95-7ffc-4303-a56a-1bca40bf9325",
   "metadata": {},
   "outputs": [],
   "source": [
    "# using for loop"
   ]
  },
  {
   "cell_type": "code",
   "execution_count": 54,
   "id": "ba9b0cff-ec01-423f-9b83-c33aed89ee1f",
   "metadata": {},
   "outputs": [
    {
     "data": {
      "text/plain": [
       "45"
      ]
     },
     "execution_count": 54,
     "metadata": {},
     "output_type": "execute_result"
    }
   ],
   "source": [
    "sum = 0\n",
    "for i in l:\n",
    "    sum = sum+i\n",
    "sum    \n",
    "    "
   ]
  },
  {
   "cell_type": "code",
   "execution_count": 55,
   "id": "ba443738-b0f7-4aaa-8bc1-d9986ac52d6c",
   "metadata": {},
   "outputs": [],
   "source": [
    "t = (1,2,3,4,5)"
   ]
  },
  {
   "cell_type": "code",
   "execution_count": 56,
   "id": "54f0ad73-5688-4f62-8d97-16f2be8a4ae8",
   "metadata": {},
   "outputs": [
    {
     "name": "stdout",
     "output_type": "stream",
     "text": [
      "1\n",
      "2\n",
      "3\n",
      "4\n",
      "5\n"
     ]
    }
   ],
   "source": [
    "for i in t:\n",
    "    print(i)"
   ]
  },
  {
   "cell_type": "code",
   "execution_count": 57,
   "id": "c53423d4-272e-45e9-bad7-d9e1259e8c37",
   "metadata": {},
   "outputs": [
    {
     "data": {
      "text/plain": [
       "15"
      ]
     },
     "execution_count": 57,
     "metadata": {},
     "output_type": "execute_result"
    }
   ],
   "source": [
    "result = 0\n",
    "for i in t:\n",
    "    result = result+i\n",
    "result    \n",
    "    "
   ]
  },
  {
   "cell_type": "code",
   "execution_count": 58,
   "id": "e20f714f-42f7-4bd1-8091-c6f2fcfe2229",
   "metadata": {},
   "outputs": [],
   "source": [
    "s = {1,2,3,4,5,\"ankur\",\"jha\"}"
   ]
  },
  {
   "cell_type": "code",
   "execution_count": 59,
   "id": "32560b2b-e30c-4154-adcf-3ae139f3f85c",
   "metadata": {},
   "outputs": [
    {
     "name": "stdout",
     "output_type": "stream",
     "text": [
      "1\n",
      "2\n",
      "3\n",
      "4\n",
      "5\n",
      "ankur\n",
      "jha\n"
     ]
    }
   ],
   "source": [
    "for i in s:\n",
    "    print(i)"
   ]
  },
  {
   "cell_type": "code",
   "execution_count": 60,
   "id": "6e05b06f-d786-4a13-a3f2-26993d980776",
   "metadata": {},
   "outputs": [],
   "source": [
    "s1 = \"pwskills\""
   ]
  },
  {
   "cell_type": "code",
   "execution_count": 61,
   "id": "11a1cdf0-be2b-4724-99aa-4b29ec89a4c7",
   "metadata": {},
   "outputs": [
    {
     "name": "stdout",
     "output_type": "stream",
     "text": [
      "p\n",
      "w\n",
      "s\n",
      "k\n",
      "i\n",
      "l\n",
      "l\n",
      "s\n"
     ]
    }
   ],
   "source": [
    "for i in s1:\n",
    "    print(i)"
   ]
  },
  {
   "cell_type": "code",
   "execution_count": 62,
   "id": "36ad50c2-1d15-4527-8caf-d11dc627f3e1",
   "metadata": {},
   "outputs": [],
   "source": [
    "d = {\"name\":\"ankur\",\"class\":\"data science masters\",\"topic\":[\"python\",\"stats\",\"machine learning\",\"deep learning\",\"cv\",\"nlp\",\"resume\",\"interview prep\"]}"
   ]
  },
  {
   "cell_type": "code",
   "execution_count": 63,
   "id": "169ce62e-24e0-477d-920b-90802a0f5718",
   "metadata": {},
   "outputs": [
    {
     "data": {
      "text/plain": [
       "{'name': 'ankur',\n",
       " 'class': 'data science masters',\n",
       " 'topic': ['python',\n",
       "  'stats',\n",
       "  'machine learning',\n",
       "  'deep learning',\n",
       "  'cv',\n",
       "  'nlp',\n",
       "  'resume',\n",
       "  'interview prep']}"
      ]
     },
     "execution_count": 63,
     "metadata": {},
     "output_type": "execute_result"
    }
   ],
   "source": [
    "d"
   ]
  },
  {
   "cell_type": "code",
   "execution_count": 64,
   "id": "d149d9fe-3b82-448f-aef9-57945d72b360",
   "metadata": {},
   "outputs": [
    {
     "data": {
      "text/plain": [
       "'ankur'"
      ]
     },
     "execution_count": 64,
     "metadata": {},
     "output_type": "execute_result"
    }
   ],
   "source": [
    "d['name']"
   ]
  },
  {
   "cell_type": "code",
   "execution_count": 65,
   "id": "0e5bcfca-b635-4aef-a118-88f088854d27",
   "metadata": {},
   "outputs": [
    {
     "data": {
      "text/plain": [
       "dict_keys(['name', 'class', 'topic'])"
      ]
     },
     "execution_count": 65,
     "metadata": {},
     "output_type": "execute_result"
    }
   ],
   "source": [
    "d.keys()"
   ]
  },
  {
   "cell_type": "code",
   "execution_count": 69,
   "id": "dde2e654-0992-4f6c-84ee-e0901961d750",
   "metadata": {},
   "outputs": [
    {
     "name": "stdout",
     "output_type": "stream",
     "text": [
      "ankur\n",
      "data science masters\n",
      "['python', 'stats', 'machine learning', 'deep learning', 'cv', 'nlp', 'resume', 'interview prep']\n"
     ]
    }
   ],
   "source": [
    "for i in d.keys():\n",
    "    print(d[i])"
   ]
  },
  {
   "cell_type": "code",
   "execution_count": 68,
   "id": "08496474-7e95-4122-86b0-992df4f6b8f6",
   "metadata": {},
   "outputs": [
    {
     "data": {
      "text/plain": [
       "dict_values(['ankur', 'data science masters', ['python', 'stats', 'machine learning', 'deep learning', 'cv', 'nlp', 'resume', 'interview prep']])"
      ]
     },
     "execution_count": 68,
     "metadata": {},
     "output_type": "execute_result"
    }
   ],
   "source": [
    "d.values()"
   ]
  },
  {
   "cell_type": "code",
   "execution_count": 71,
   "id": "61e6e11e-8dc6-4ade-8228-12d4fc96ca3d",
   "metadata": {},
   "outputs": [
    {
     "name": "stdout",
     "output_type": "stream",
     "text": [
      "ankur\n",
      "data science masters\n",
      "['python', 'stats', 'machine learning', 'deep learning', 'cv', 'nlp', 'resume', 'interview prep']\n"
     ]
    }
   ],
   "source": [
    "for i in d.values():\n",
    "    print(i)"
   ]
  },
  {
   "cell_type": "code",
   "execution_count": 72,
   "id": "1fc0d170-e108-4b0f-bf6b-5059aa728060",
   "metadata": {},
   "outputs": [
    {
     "data": {
      "text/plain": [
       "dict_items([('name', 'ankur'), ('class', 'data science masters'), ('topic', ['python', 'stats', 'machine learning', 'deep learning', 'cv', 'nlp', 'resume', 'interview prep'])])"
      ]
     },
     "execution_count": 72,
     "metadata": {},
     "output_type": "execute_result"
    }
   ],
   "source": [
    "d.items()"
   ]
  },
  {
   "cell_type": "code",
   "execution_count": null,
   "id": "af6cd56e-3484-4abb-8be8-28ac7c5db765",
   "metadata": {},
   "outputs": [],
   "source": [
    "for i in d.():\n",
    "    print(d[i])"
   ]
  }
 ],
 "metadata": {
  "kernelspec": {
   "display_name": "Python 3 (ipykernel)",
   "language": "python",
   "name": "python3"
  },
  "language_info": {
   "codemirror_mode": {
    "name": "ipython",
    "version": 3
   },
   "file_extension": ".py",
   "mimetype": "text/x-python",
   "name": "python",
   "nbconvert_exporter": "python",
   "pygments_lexer": "ipython3",
   "version": "3.10.8"
  }
 },
 "nbformat": 4,
 "nbformat_minor": 5
}
